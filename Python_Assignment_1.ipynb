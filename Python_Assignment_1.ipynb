{
 "cells": [
  {
   "cell_type": "code",
   "execution_count": 1,
   "metadata": {},
   "outputs": [
    {
     "name": "stdout",
     "output_type": "stream",
     "text": [
      "Hello Python\n"
     ]
    }
   ],
   "source": [
    "#Write a Python program to print \"Hello Python\"\n",
    "\n",
    "print(\"Hello Python\")"
   ]
  },
  {
   "cell_type": "code",
   "execution_count": 3,
   "metadata": {},
   "outputs": [
    {
     "name": "stdout",
     "output_type": "stream",
     "text": [
      "addition of a and b is:  12\n",
      "multiplication of a and b is:  5.0\n"
     ]
    }
   ],
   "source": [
    "#Write a Python program to do arithmetical operations addition and division\n",
    "\n",
    "a = 10\n",
    "b = 2\n",
    "\n",
    "print(\"addition of a and b is: \",a+b)\n",
    "print(\"multiplication of a and b is: \",a/b)"
   ]
  },
  {
   "cell_type": "code",
   "execution_count": 4,
   "metadata": {},
   "outputs": [
    {
     "name": "stdout",
     "output_type": "stream",
     "text": [
      "area of triagnle is: 1250.0\n"
     ]
    }
   ],
   "source": [
    "#Write a Python program to find the area of a triangle\n",
    "\n",
    "height = 100\n",
    "base = 25\n",
    "\n",
    "area=height*base/2\n",
    "\n",
    "print('area of triagnle is:',area)"
   ]
  },
  {
   "cell_type": "code",
   "execution_count": 7,
   "metadata": {},
   "outputs": [
    {
     "name": "stdout",
     "output_type": "stream",
     "text": [
      "before swap:\n",
      " var1=123 and var2=111\n",
      "after swap:\n",
      " var1=111 and var2=123\n"
     ]
    }
   ],
   "source": [
    "#Write a Python program to swap two variables\n",
    "\n",
    "var1 = 123\n",
    "var2 = 111\n",
    "\n",
    "print('before swap:\\n var1={} and var2={}'.format(var1,var2))\n",
    "\n",
    "temp=var1\n",
    "var1=var2\n",
    "var2=temp\n",
    "\n",
    "print('after swap:\\n var1={} and var2={}'.format(var1,var2))"
   ]
  },
  {
   "cell_type": "code",
   "execution_count": 11,
   "metadata": {},
   "outputs": [
    {
     "name": "stdout",
     "output_type": "stream",
     "text": [
      "0.9837070093556253\n",
      "17\n"
     ]
    }
   ],
   "source": [
    "#Write a Python program to generate a random number\n",
    "\n",
    "import random\n",
    "\n",
    "print(random.random())\n",
    "print(random.randint(1,20))"
   ]
  },
  {
   "cell_type": "code",
   "execution_count": null,
   "metadata": {},
   "outputs": [],
   "source": []
  }
 ],
 "metadata": {
  "kernelspec": {
   "display_name": "Python 3",
   "language": "python",
   "name": "python3"
  },
  "language_info": {
   "codemirror_mode": {
    "name": "ipython",
    "version": 3
   },
   "file_extension": ".py",
   "mimetype": "text/x-python",
   "name": "python",
   "nbconvert_exporter": "python",
   "pygments_lexer": "ipython3",
   "version": "3.7.4"
  }
 },
 "nbformat": 4,
 "nbformat_minor": 2
}
