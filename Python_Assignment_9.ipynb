{
 "cells": [
  {
   "cell_type": "code",
   "execution_count": 1,
   "metadata": {},
   "outputs": [],
   "source": [
    "#Write a Python program to check if the given number is a Disarium Number\n",
    "\n",
    "def Disarium(num):\n",
    "    \n",
    "    try:\n",
    "        if type(num) != int:\n",
    "            raise Exception(\"Not an integer\")\n",
    "            \n",
    "        num = str(num)\n",
    "        total = 0\n",
    "        for i in range(0, len(num)):\n",
    "            n = int(num[i])\n",
    "            n = n**(i+1)\n",
    "            total = total + n\n",
    "\n",
    "        if total == int(num):\n",
    "            return True\n",
    "        else:\n",
    "            return False\n",
    "\n",
    "    except Exception as e:\n",
    "        print(e)\n",
    "        "
   ]
  },
  {
   "cell_type": "code",
   "execution_count": 2,
   "metadata": {},
   "outputs": [
    {
     "data": {
      "text/plain": [
       "False"
      ]
     },
     "execution_count": 2,
     "metadata": {},
     "output_type": "execute_result"
    }
   ],
   "source": [
    "Disarium(23)"
   ]
  },
  {
   "cell_type": "code",
   "execution_count": 3,
   "metadata": {},
   "outputs": [
    {
     "name": "stdout",
     "output_type": "stream",
     "text": [
      "1 2 3 4 5 6 7 8 9 89 "
     ]
    }
   ],
   "source": [
    "#Write a Python program to print all disarium numbers between 1 to 100\n",
    "\n",
    "for i in range(1, 101):\n",
    "    if Disarium(i) == True:\n",
    "        print(i, end = ' ')"
   ]
  },
  {
   "cell_type": "code",
   "execution_count": 4,
   "metadata": {},
   "outputs": [],
   "source": [
    "#Write a Python program to check if the given number is Happy Number\n",
    "\n",
    "def happy(num):\n",
    "\n",
    "    res = num; \n",
    "    def isHappy(num):    \n",
    "        r = 0;  \n",
    "        s = 0\n",
    "        while(num > 0):    \n",
    "            r = num%10    \n",
    "            s += r**2  \n",
    "            num //= 10    \n",
    "        return s     \n",
    "\n",
    "    while(res != 1 and res != 4):    \n",
    "        res = isHappy(res)    \n",
    "\n",
    "    if(res == 1):    \n",
    "        return True\n",
    "    elif(res == 4):    \n",
    "        return False"
   ]
  },
  {
   "cell_type": "code",
   "execution_count": 5,
   "metadata": {},
   "outputs": [
    {
     "data": {
      "text/plain": [
       "False"
      ]
     },
     "execution_count": 5,
     "metadata": {},
     "output_type": "execute_result"
    }
   ],
   "source": [
    "happy(78)"
   ]
  },
  {
   "cell_type": "code",
   "execution_count": 6,
   "metadata": {},
   "outputs": [
    {
     "name": "stdout",
     "output_type": "stream",
     "text": [
      "1 7 10 13 19 23 28 31 32 44 49 68 70 79 82 86 91 94 97 100 "
     ]
    }
   ],
   "source": [
    "#Write a Python program to print all happy numbers between 1 and 100\n",
    "\n",
    "for i in range(1, 101):\n",
    "    if happy(i) == True:\n",
    "        print(i, end = ' ')"
   ]
  },
  {
   "cell_type": "code",
   "execution_count": 7,
   "metadata": {},
   "outputs": [],
   "source": [
    "#Write a Python program to determine whether the given number is a Harshad Number\n",
    "\n",
    "def Harshad(num):\n",
    "    temp = num\n",
    "    total = 0\n",
    "    while (temp > 0):\n",
    "        total = total + (temp%10)\n",
    "        temp = temp//10\n",
    "        \n",
    "    if num%total==0:\n",
    "        print(\"Harshad Number\")\n",
    "    else:\n",
    "        print(\"Not Harshad Number\")"
   ]
  },
  {
   "cell_type": "code",
   "execution_count": 8,
   "metadata": {},
   "outputs": [
    {
     "name": "stdout",
     "output_type": "stream",
     "text": [
      "Harshad Number\n"
     ]
    }
   ],
   "source": [
    "Harshad(50)"
   ]
  },
  {
   "cell_type": "code",
   "execution_count": 9,
   "metadata": {},
   "outputs": [
    {
     "name": "stdout",
     "output_type": "stream",
     "text": [
      "0 2 6 12 20 30 42 56 72 90 "
     ]
    }
   ],
   "source": [
    "#Write a Python program to print all pronic numbers between 1 and 100\n",
    "\n",
    "i = 0\n",
    "while True:\n",
    "    pronicNum = i*(i+1)\n",
    "    i = i + 1\n",
    "    if pronicNum > 100:\n",
    "        break\n",
    "    print(pronicNum, end = ' ')\n",
    "    "
   ]
  },
  {
   "cell_type": "code",
   "execution_count": null,
   "metadata": {},
   "outputs": [],
   "source": []
  }
 ],
 "metadata": {
  "kernelspec": {
   "display_name": "Python 3",
   "language": "python",
   "name": "python3"
  },
  "language_info": {
   "codemirror_mode": {
    "name": "ipython",
    "version": 3
   },
   "file_extension": ".py",
   "mimetype": "text/x-python",
   "name": "python",
   "nbconvert_exporter": "python",
   "pygments_lexer": "ipython3",
   "version": "3.7.4"
  }
 },
 "nbformat": 4,
 "nbformat_minor": 2
}
