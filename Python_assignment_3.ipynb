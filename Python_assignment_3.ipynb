{
 "cells": [
  {
   "cell_type": "code",
   "execution_count": 4,
   "metadata": {},
   "outputs": [],
   "source": [
    "#Write a Python Program to Check if a Number is Positive, Negative or Zero\n",
    "\n",
    "def numtype():\n",
    "    numb=int(input('enter a number'))\n",
    "    \n",
    "    if numb<0:\n",
    "        print('entered -ve number')\n",
    "    elif numb>0:\n",
    "        print('entered +ve number')\n",
    "    else:\n",
    "        print('number is zero')"
   ]
  },
  {
   "cell_type": "code",
   "execution_count": 8,
   "metadata": {},
   "outputs": [
    {
     "name": "stdout",
     "output_type": "stream",
     "text": [
      "enter a number0\n",
      "number is zero\n"
     ]
    }
   ],
   "source": [
    "numtype()"
   ]
  },
  {
   "cell_type": "code",
   "execution_count": 13,
   "metadata": {},
   "outputs": [],
   "source": [
    "#Write a Python Program to Check if a Number is Odd or Even\n",
    "\n",
    "def oddoreven():\n",
    "    numb=int(input('enter a number'))\n",
    "    \n",
    "    if numb%2==0:\n",
    "        print('number is even')\n",
    "    else:\n",
    "        print('nnumber is odd')\n",
    "    "
   ]
  },
  {
   "cell_type": "code",
   "execution_count": 14,
   "metadata": {},
   "outputs": [
    {
     "name": "stdout",
     "output_type": "stream",
     "text": [
      "enter a number1234\n",
      "number is even\n"
     ]
    }
   ],
   "source": [
    "oddoreven()"
   ]
  },
  {
   "cell_type": "code",
   "execution_count": 17,
   "metadata": {},
   "outputs": [],
   "source": [
    "#Write a Python Program to Check Leap Year\n",
    "\n",
    "def leap():\n",
    "    year=int(input('enter a year'))\n",
    "    \n",
    "    if(((year % 4 == 0) and (year % 100 != 0)) or (year % 400 == 0)):\n",
    "        print(\"Leap Year\")\n",
    "    else:\n",
    "        print(\"Not a Leap Year\")"
   ]
  },
  {
   "cell_type": "code",
   "execution_count": 20,
   "metadata": {},
   "outputs": [
    {
     "name": "stdout",
     "output_type": "stream",
     "text": [
      "enter a year2000\n",
      "Leap Year\n"
     ]
    }
   ],
   "source": [
    "leap()"
   ]
  },
  {
   "cell_type": "code",
   "execution_count": 27,
   "metadata": {},
   "outputs": [],
   "source": [
    "#Write a Python Program to Check Prime Number\n",
    "\n",
    "def prime():\n",
    "    num = int(input(\"Enter a number: \"))\n",
    "\n",
    "    isPrime = True\n",
    "\n",
    "    if num <= 1:\n",
    "        print(num, \"is neither prime nor composite\")\n",
    "    else:\n",
    "        d = 2\n",
    "    while(d*d <= num):\n",
    "        if(num%d==0):\n",
    "            isPrime = False\n",
    "            break\n",
    "        d = d + 1\n",
    "\n",
    "    if(num > 1):\n",
    "        if(isPrime):\n",
    "            print(num, \"is prime number\")\n",
    "        else:\n",
    "            print(num, \"is not prime number\")\n",
    "        "
   ]
  },
  {
   "cell_type": "code",
   "execution_count": 29,
   "metadata": {},
   "outputs": [
    {
     "name": "stdout",
     "output_type": "stream",
     "text": [
      "Enter a number: 101\n",
      "101 is prime number\n"
     ]
    }
   ],
   "source": [
    "prime()"
   ]
  },
  {
   "cell_type": "code",
   "execution_count": 36,
   "metadata": {},
   "outputs": [],
   "source": [
    "#Write a Python Program to Print all Prime Numbers in an Interval of 1-10000\n",
    "\n",
    "def prime1():\n",
    "    lower = int(input(\"Enter lowe range \"))\n",
    "    upper = int(input(\"Enter upper range \"))\n",
    "    \n",
    "    for num in range(lower, upper + 1):\n",
    "        if num > 1:\n",
    "            for i in range(2, num):\n",
    "                if (num % i) == 0:\n",
    "                    break\n",
    "            else:\n",
    "                print(num)\n",
    "    \n",
    "    "
   ]
  },
  {
   "cell_type": "code",
   "execution_count": 37,
   "metadata": {},
   "outputs": [
    {
     "name": "stdout",
     "output_type": "stream",
     "text": [
      "Enter lowe range 10\n",
      "Enter upper range 100\n",
      "11\n",
      "13\n",
      "17\n",
      "19\n",
      "23\n",
      "29\n",
      "31\n",
      "37\n",
      "41\n",
      "43\n",
      "47\n",
      "53\n",
      "59\n",
      "61\n",
      "67\n",
      "71\n",
      "73\n",
      "79\n",
      "83\n",
      "89\n",
      "97\n"
     ]
    }
   ],
   "source": [
    "prime1()"
   ]
  },
  {
   "cell_type": "code",
   "execution_count": null,
   "metadata": {},
   "outputs": [],
   "source": []
  }
 ],
 "metadata": {
  "kernelspec": {
   "display_name": "Python 3",
   "language": "python",
   "name": "python3"
  },
  "language_info": {
   "codemirror_mode": {
    "name": "ipython",
    "version": 3
   },
   "file_extension": ".py",
   "mimetype": "text/x-python",
   "name": "python",
   "nbconvert_exporter": "python",
   "pygments_lexer": "ipython3",
   "version": "3.7.4"
  }
 },
 "nbformat": 4,
 "nbformat_minor": 2
}
