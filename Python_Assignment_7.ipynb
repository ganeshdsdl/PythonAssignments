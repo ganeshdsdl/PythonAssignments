{
 "cells": [
  {
   "cell_type": "code",
   "execution_count": 1,
   "metadata": {},
   "outputs": [
    {
     "name": "stdout",
     "output_type": "stream",
     "text": [
      "Sum of array:  197\n"
     ]
    }
   ],
   "source": [
    "#Write a Python Program to find sum of array\n",
    "\n",
    "l = [1,2,3,-412, 123, 369, 111]\n",
    "\n",
    "arraySum = 0\n",
    "for i in l:\n",
    "    arraySum += i\n",
    "    \n",
    "print(\"Sum of array: \", arraySum)"
   ]
  },
  {
   "cell_type": "code",
   "execution_count": 2,
   "metadata": {},
   "outputs": [
    {
     "data": {
      "text/plain": [
       "369"
      ]
     },
     "execution_count": 2,
     "metadata": {},
     "output_type": "execute_result"
    }
   ],
   "source": [
    "#Write a Python Program to find largest element in an array\n",
    "\n",
    "l = [1,2,3,-412, 123, 369, 111]\n",
    "\n",
    "arrayMax = -9999999999999\n",
    "\n",
    "for i in l:\n",
    "    if i > arrayMax:\n",
    "        arrayMax = i\n",
    "\n",
    "arrayMax"
   ]
  },
  {
   "cell_type": "code",
   "execution_count": 3,
   "metadata": {},
   "outputs": [
    {
     "name": "stdout",
     "output_type": "stream",
     "text": [
      "Rotated array:\n",
      "[111, 369, 123, -412, 3, 2, 1]\n"
     ]
    }
   ],
   "source": [
    "#Write a Python Program for array rotation\n",
    "\n",
    "l = [1,2,3,-412, 123, 369, 111]\n",
    "\n",
    "print(\"Rotated array:\")\n",
    "print(l[::-1])"
   ]
  },
  {
   "cell_type": "code",
   "execution_count": 4,
   "metadata": {},
   "outputs": [],
   "source": [
    "#Write a Python Program to Split the array and add the first part to the end\n",
    "\n",
    "def splitAdd(l, split):\n",
    "  \n",
    "    out = []\n",
    "    for i in range(len(l)):\n",
    "        index = (i+len(l)+split)%len(l)\n",
    "        out.append(l[index])\n",
    "        \n",
    "    return out"
   ]
  },
  {
   "cell_type": "code",
   "execution_count": 5,
   "metadata": {},
   "outputs": [
    {
     "data": {
      "text/plain": [
       "[3, -412, 123, 369, 111, 1, 2]"
      ]
     },
     "execution_count": 5,
     "metadata": {},
     "output_type": "execute_result"
    }
   ],
   "source": [
    "l = [1,2,3,-412, 123, 369, 111]\n",
    "splitIndex = 2\n",
    "splitAdd(l, splitIndex)"
   ]
  },
  {
   "cell_type": "code",
   "execution_count": 6,
   "metadata": {},
   "outputs": [],
   "source": [
    "#Write a Python Program to check if given array is Monotonic\n",
    "\n",
    "def monotonicCheck(array):\n",
    "    flag = True\n",
    "    \n",
    "    if array[0] >= array[len(array)-1]:\n",
    "        for i in range(len(array)-2):\n",
    "            if array[i] < array[i+1]:\n",
    "                flag = False\n",
    "    else:\n",
    "        for i in range(len(array)-2):\n",
    "            if array[i] > array[i+1]:\n",
    "                flag = False\n",
    "                \n",
    "    return flag"
   ]
  },
  {
   "cell_type": "code",
   "execution_count": 7,
   "metadata": {},
   "outputs": [
    {
     "data": {
      "text/plain": [
       "True"
      ]
     },
     "execution_count": 7,
     "metadata": {},
     "output_type": "execute_result"
    }
   ],
   "source": [
    "array = [1,2,3,56, 124, 369]\n",
    "\n",
    "monotonicCheck(array)"
   ]
  },
  {
   "cell_type": "code",
   "execution_count": null,
   "metadata": {},
   "outputs": [],
   "source": []
  }
 ],
 "metadata": {
  "kernelspec": {
   "display_name": "Python 3",
   "language": "python",
   "name": "python3"
  },
  "language_info": {
   "codemirror_mode": {
    "name": "ipython",
    "version": 3
   },
   "file_extension": ".py",
   "mimetype": "text/x-python",
   "name": "python",
   "nbconvert_exporter": "python",
   "pygments_lexer": "ipython3",
   "version": "3.7.4"
  }
 },
 "nbformat": 4,
 "nbformat_minor": 2
}
