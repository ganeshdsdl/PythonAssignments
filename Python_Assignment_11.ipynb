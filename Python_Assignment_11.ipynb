{
 "cells": [
  {
   "cell_type": "code",
   "execution_count": 4,
   "metadata": {},
   "outputs": [],
   "source": [
    "#Write a Python program to find words which are greater than given length k\n",
    "\n",
    "def word_len(list_of_words: list, k: int):\n",
    "    output = []\n",
    "    for i in list_of_words:\n",
    "        if len(i) > k:\n",
    "            output.append(i)\n",
    "            \n",
    "    return output"
   ]
  },
  {
   "cell_type": "code",
   "execution_count": 6,
   "metadata": {},
   "outputs": [
    {
     "data": {
      "text/plain": [
       "['bananana', 'almond']"
      ]
     },
     "execution_count": 6,
     "metadata": {},
     "output_type": "execute_result"
    }
   ],
   "source": [
    "list_of_words = ['Apple', 'bananana', 'kiwi', 'berry', 'almond']\n",
    "k = 5\n",
    "\n",
    "word_len(list_of_words, k)"
   ]
  },
  {
   "cell_type": "code",
   "execution_count": 7,
   "metadata": {},
   "outputs": [],
   "source": [
    "#Write a Python program for removing i-th character from a string\n",
    "\n",
    "def removing_ith(string: str, i):\n",
    "    string = string.replace(string[i], '')\n",
    "    return string"
   ]
  },
  {
   "cell_type": "code",
   "execution_count": 8,
   "metadata": {},
   "outputs": [
    {
     "data": {
      "text/plain": [
       "'abcdfgh'"
      ]
     },
     "execution_count": 8,
     "metadata": {},
     "output_type": "execute_result"
    }
   ],
   "source": [
    "removing_ith('abcdefgh', 4)"
   ]
  },
  {
   "cell_type": "code",
   "execution_count": 11,
   "metadata": {},
   "outputs": [],
   "source": [
    "#Write a Python program to split and join a string\n",
    "\n",
    "\n",
    "\n",
    "def split_join(str):\n",
    "    split = str.split(' ')\n",
    "    print(split)\n",
    "\n",
    "    join = \" \".join(split)\n",
    "    print(join)"
   ]
  },
  {
   "cell_type": "code",
   "execution_count": 12,
   "metadata": {},
   "outputs": [
    {
     "name": "stdout",
     "output_type": "stream",
     "text": [
      "['Write', 'a', 'Python', 'program', 'to', 'split', 'and', 'join', 'a', 'string?']\n",
      "Write a Python program to split and join a string?\n"
     ]
    }
   ],
   "source": [
    "split_join('Write a Python program to split and join a string?')"
   ]
  },
  {
   "cell_type": "code",
   "execution_count": 13,
   "metadata": {},
   "outputs": [],
   "source": [
    "#Write a Python to check if a given string is binary string or not\n",
    "\n",
    "def binary_string():\n",
    "    string = input(\"Enter the string: \")\n",
    "    binary = ['0', '1']\n",
    "\n",
    "    is_binary = True\n",
    "    for i in string:\n",
    "        if i not in binary:\n",
    "            is_binary = False\n",
    "    \n",
    "    if is_binary:\n",
    "        print(\"Binary\")\n",
    "    else:\n",
    "        print(\"Not Binary\")"
   ]
  },
  {
   "cell_type": "code",
   "execution_count": 14,
   "metadata": {},
   "outputs": [
    {
     "name": "stdout",
     "output_type": "stream",
     "text": [
      "Enter the string: 765708\n",
      "Not Binary\n"
     ]
    }
   ],
   "source": [
    "binary_string()"
   ]
  },
  {
   "cell_type": "code",
   "execution_count": 16,
   "metadata": {},
   "outputs": [],
   "source": [
    "#Write a Python program to find uncommon words from two Strings\n",
    "\n",
    "def uncommon_words(string1,string2):\n",
    "    string1 = string1.split(' ')\n",
    "    string2 = string2.split(' ')\n",
    "    uncommon = []\n",
    "    \n",
    "    for i in set(string1):\n",
    "        if i not in string2:\n",
    "            uncommon.append(i)\n",
    "\n",
    "    for i in set(string2):\n",
    "        if i not in string1:\n",
    "            uncommon.append(i)\n",
    "            \n",
    "    return uncommon"
   ]
  },
  {
   "cell_type": "code",
   "execution_count": 17,
   "metadata": {},
   "outputs": [
    {
     "data": {
      "text/plain": [
       "['split',\n",
       " 'join',\n",
       " 'string',\n",
       " 'and',\n",
       " 'from',\n",
       " 'uncommon',\n",
       " 'find',\n",
       " 'words',\n",
       " 'two',\n",
       " 'Strings']"
      ]
     },
     "execution_count": 17,
     "metadata": {},
     "output_type": "execute_result"
    }
   ],
   "source": [
    "string1 = \"Write a Python program to split and join a string\"\n",
    "string2 = \"Write a Python program to find uncommon words from two Strings\"\n",
    "\n",
    "uncommon_words(string1, string2)\n"
   ]
  },
  {
   "cell_type": "code",
   "execution_count": 18,
   "metadata": {},
   "outputs": [],
   "source": [
    "#Write a Python to find all duplicate characters in string\n",
    "\n",
    "def dup_chars(string: str):\n",
    "    duplicate = []\n",
    "    for i in string:\n",
    "        if string.count(i) > 1:\n",
    "            duplicate.append(i)\n",
    "            \n",
    "    return set(duplicate)"
   ]
  },
  {
   "cell_type": "code",
   "execution_count": 20,
   "metadata": {},
   "outputs": [
    {
     "data": {
      "text/plain": [
       "{' ', 'a', 'c', 'd', 'e', 'i', 'l', 'n', 'r', 's', 't'}"
      ]
     },
     "execution_count": 20,
     "metadata": {},
     "output_type": "execute_result"
    }
   ],
   "source": [
    "dup_chars(\"find all duplicate characters in string\")"
   ]
  },
  {
   "cell_type": "code",
   "execution_count": 21,
   "metadata": {},
   "outputs": [
    {
     "name": "stdout",
     "output_type": "stream",
     "text": [
      "Enter a string: %%(*@shdkhfdkj\n",
      "Given string contains special characters\n"
     ]
    }
   ],
   "source": [
    "#Write a Python Program to check if a string contains any special character\n",
    "\n",
    "import re\n",
    "\n",
    "\n",
    "string = input(\"Enter a string: \")\n",
    "regex = re.compile('[@_!#$%^&*()<>?/\\|}{~:]')  \n",
    "\n",
    "if(regex.search(string) == None):\n",
    "    print(\"Given string does not contain special characters\")\n",
    "else:\n",
    "    print(\"Given string contains special characters\")"
   ]
  },
  {
   "cell_type": "code",
   "execution_count": null,
   "metadata": {},
   "outputs": [],
   "source": []
  }
 ],
 "metadata": {
  "kernelspec": {
   "display_name": "Python 3",
   "language": "python",
   "name": "python3"
  },
  "language_info": {
   "codemirror_mode": {
    "name": "ipython",
    "version": 3
   },
   "file_extension": ".py",
   "mimetype": "text/x-python",
   "name": "python",
   "nbconvert_exporter": "python",
   "pygments_lexer": "ipython3",
   "version": "3.7.4"
  }
 },
 "nbformat": 4,
 "nbformat_minor": 2
}
