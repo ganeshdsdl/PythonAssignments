{
 "cells": [
  {
   "cell_type": "code",
   "execution_count": 4,
   "metadata": {},
   "outputs": [],
   "source": [
    "#Write a Python Program to Find LCM\n",
    "def lcm():\n",
    "    a=int(input('enter a number'))\n",
    "    b=int(input('enter a number'))\n",
    "    \n",
    "    \n",
    "    high = a if a > b else b\n",
    "    \n",
    "    while True:\n",
    "        if (high%a==0) and (high%b==0):\n",
    "            break\n",
    "        else:\n",
    "            high += 1\n",
    "            \n",
    "    return high"
   ]
  },
  {
   "cell_type": "code",
   "execution_count": 5,
   "metadata": {},
   "outputs": [
    {
     "name": "stdout",
     "output_type": "stream",
     "text": [
      "enter a number22\n",
      "enter a number7\n"
     ]
    },
    {
     "data": {
      "text/plain": [
       "154"
      ]
     },
     "execution_count": 5,
     "metadata": {},
     "output_type": "execute_result"
    }
   ],
   "source": [
    "lcm()"
   ]
  },
  {
   "cell_type": "code",
   "execution_count": 8,
   "metadata": {},
   "outputs": [],
   "source": [
    "#Write a Python Program to Find HCF\n",
    "\n",
    "def hcf():\n",
    "    a=int(input('enter a number'))\n",
    "    b=int(input('enter a number'))\n",
    "    \n",
    "    low = a if a < b else b\n",
    "    \n",
    "    for i in range(1, low+1):\n",
    "        if (a%i==0) and (b%i==0):\n",
    "            hcf = i\n",
    "            \n",
    "    return hcf"
   ]
  },
  {
   "cell_type": "code",
   "execution_count": 9,
   "metadata": {},
   "outputs": [
    {
     "name": "stdout",
     "output_type": "stream",
     "text": [
      "enter a number22\n",
      "enter a number7\n"
     ]
    },
    {
     "data": {
      "text/plain": [
       "1"
      ]
     },
     "execution_count": 9,
     "metadata": {},
     "output_type": "execute_result"
    }
   ],
   "source": [
    "hcf()"
   ]
  },
  {
   "cell_type": "code",
   "execution_count": 10,
   "metadata": {},
   "outputs": [],
   "source": [
    "#Write a Python Program to Convert Decimal to Binary, Octal and Hexadecimal\n",
    "\n",
    "def conversion(num):\n",
    "    print(\"Binary:      \", bin(num))\n",
    "    print(\"Octal:       \", oct(num))\n",
    "    print(\"Hexadecimal: \", hex(num))"
   ]
  },
  {
   "cell_type": "code",
   "execution_count": 11,
   "metadata": {},
   "outputs": [
    {
     "name": "stdout",
     "output_type": "stream",
     "text": [
      "Binary:       0b111\n",
      "Octal:        0o7\n",
      "Hexadecimal:  0x7\n"
     ]
    }
   ],
   "source": [
    "conversion(7)"
   ]
  },
  {
   "cell_type": "code",
   "execution_count": 13,
   "metadata": {},
   "outputs": [],
   "source": [
    "#Write a Python Program To Find ASCII value of a character\n",
    "\n",
    "def asci():\n",
    "    try:\n",
    "        char = input(\"Enter a character: \")\n",
    "        ASCII = ord(char)\n",
    "        print(\"ASCII value of {} is {}\".format(char, ASCII))\n",
    "    except Exception as e:\n",
    "        print(e)"
   ]
  },
  {
   "cell_type": "code",
   "execution_count": 15,
   "metadata": {},
   "outputs": [
    {
     "name": "stdout",
     "output_type": "stream",
     "text": [
      "Enter a character: a\n",
      "ASCII value of a is 97\n"
     ]
    }
   ],
   "source": [
    "asci()"
   ]
  },
  {
   "cell_type": "code",
   "execution_count": 16,
   "metadata": {},
   "outputs": [],
   "source": [
    "#Write a Python Program to Make a Simple Calculator with 4 basic mathematical operations\n",
    "\n",
    "def calc():\n",
    "    try:\n",
    "        while True:\n",
    "            num1 = int(input(\"Enter first number: \"))\n",
    "            num2 = int(input(\"Enter second number: \"))\n",
    "        \n",
    "            print(\"\\nFor addition:       +\")\n",
    "            print(\"For subtraction:    -\")\n",
    "            print(\"For multiplicaton:  *\")\n",
    "            print(\"For division:       /\")\n",
    "            print(\"For Exit:            X\")\n",
    "        \n",
    "            ch = input(\"\\nEnter the choice for mathematical operations: \")\n",
    "        \n",
    "        \n",
    "            if ch == '+':\n",
    "                output = num1 + num2\n",
    "            elif ch == '-':\n",
    "                output = num1 - num2\n",
    "            elif ch == '*':\n",
    "                output = num1 * num2\n",
    "            elif ch == '/':\n",
    "                output = num1 / num2\n",
    "\n",
    "            if ch == 'X' or ch == 'x':\n",
    "                break\n",
    "\n",
    "            print(\"\\nResult: \", output)\n",
    "\n",
    "\n",
    "\n",
    "    except Exception as e:\n",
    "        print(e)"
   ]
  },
  {
   "cell_type": "code",
   "execution_count": null,
   "metadata": {},
   "outputs": [
    {
     "name": "stdout",
     "output_type": "stream",
     "text": [
      "Enter first number: 23\n",
      "Enter second number: 45\n",
      "\n",
      "For addition:       +\n",
      "For subtraction:    -\n",
      "For multiplicaton:  *\n",
      "For division:       /\n",
      "For Exit:            X\n",
      "\n",
      "Enter the choice for mathematical operations: *\n",
      "\n",
      "Result:  1035\n",
      "Enter first number: 343\n",
      "Enter second number: 4354\n",
      "\n",
      "For addition:       +\n",
      "For subtraction:    -\n",
      "For multiplicaton:  *\n",
      "For division:       /\n",
      "For Exit:            X\n"
     ]
    }
   ],
   "source": [
    "calc()"
   ]
  },
  {
   "cell_type": "code",
   "execution_count": null,
   "metadata": {},
   "outputs": [],
   "source": []
  }
 ],
 "metadata": {
  "kernelspec": {
   "display_name": "Python 3",
   "language": "python",
   "name": "python3"
  },
  "language_info": {
   "codemirror_mode": {
    "name": "ipython",
    "version": 3
   },
   "file_extension": ".py",
   "mimetype": "text/x-python",
   "name": "python",
   "nbconvert_exporter": "python",
   "pygments_lexer": "ipython3",
   "version": "3.7.4"
  }
 },
 "nbformat": 4,
 "nbformat_minor": 2
}
